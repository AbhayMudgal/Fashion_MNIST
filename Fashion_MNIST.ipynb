{
  "nbformat": 4,
  "nbformat_minor": 0,
  "metadata": {
    "colab": {
      "name": "Fashion_MNIST.ipynb",
      "provenance": [],
      "authorship_tag": "ABX9TyOeQu2YXXPIiSwwkZciGg4D",
      "include_colab_link": true
    },
    "kernelspec": {
      "name": "python3",
      "display_name": "Python 3"
    },
    "accelerator": "GPU"
  },
  "cells": [
    {
      "cell_type": "markdown",
      "metadata": {
        "id": "view-in-github",
        "colab_type": "text"
      },
      "source": [
        "<a href=\"https://colab.research.google.com/github/AbhayMudgal/MINST/blob/main/Fashion_MNIST.ipynb\" target=\"_parent\"><img src=\"https://colab.research.google.com/assets/colab-badge.svg\" alt=\"Open In Colab\"/></a>"
      ]
    },
    {
      "cell_type": "code",
      "metadata": {
        "id": "f8bPbkE1IiQC"
      },
      "source": [
        "import numpy as np\n",
        "import pandas as pd\n",
        "import matplotlib.pyplot as plt\n",
        "import tensorflow as tf\n",
        "from tensorflow import keras as K\n",
        "\n",
        "mnist = K.datasets.fashion_mnist"
      ],
      "execution_count": 3,
      "outputs": []
    },
    {
      "cell_type": "code",
      "metadata": {
        "id": "e-Axut7xJiS-",
        "colab": {
          "base_uri": "https://localhost:8080/"
        },
        "outputId": "9d3b75d5-95d2-4f76-a99b-21b299ac06fe"
      },
      "source": [
        "class myCallback(K.callbacks.Callback):\n",
        "  def on_epoch_end(self, epoch, logs = {}):\n",
        "    if(logs.get('acc')>0.9):\n",
        "      print(\"90% accuracy reached\")\n",
        "      self.model.stop_training = True\n",
        "\n",
        "\n",
        "(x_train, y_train), (x_test, y_test) = mnist.load_data()\n",
        "x_train, x_test = x_train/255.0, x_test/255.0"
      ],
      "execution_count": 4,
      "outputs": [
        {
          "output_type": "stream",
          "text": [
            "Downloading data from https://storage.googleapis.com/tensorflow/tf-keras-datasets/train-labels-idx1-ubyte.gz\n",
            "32768/29515 [=================================] - 0s 0us/step\n",
            "Downloading data from https://storage.googleapis.com/tensorflow/tf-keras-datasets/train-images-idx3-ubyte.gz\n",
            "26427392/26421880 [==============================] - 0s 0us/step\n",
            "Downloading data from https://storage.googleapis.com/tensorflow/tf-keras-datasets/t10k-labels-idx1-ubyte.gz\n",
            "8192/5148 [===============================================] - 0s 0us/step\n",
            "Downloading data from https://storage.googleapis.com/tensorflow/tf-keras-datasets/t10k-images-idx3-ubyte.gz\n",
            "4423680/4422102 [==============================] - 0s 0us/step\n"
          ],
          "name": "stdout"
        }
      ]
    },
    {
      "cell_type": "code",
      "metadata": {
        "id": "qEJvBk0_Loxg"
      },
      "source": [
        "#print(x_train.shape, x_test.shape) \n",
        "x_train_CNN = x_train\n",
        "x_test_CNN = x_test\n",
        "\n",
        "x_train_CNN = x_train_CNN.reshape(60000, 28, 28, 1)\n",
        "x_test_CNN = x_test_CNN.reshape(10000, 28, 28, 1)"
      ],
      "execution_count": 5,
      "outputs": []
    },
    {
      "cell_type": "code",
      "metadata": {
        "id": "1uxfIbn8KQDJ"
      },
      "source": [
        "neural_network = K.models.Sequential([\n",
        "  K.layers.Flatten(input_shape = (28, 28)),\n",
        "  K.layers.Dense(512, activation = 'relu'),\n",
        "  K.layers.Dense(10, activation = 'softmax')   \n",
        "])\n",
        "\n",
        "CNN = K.models.Sequential([\n",
        "  K.layers.Conv2D(8, (3, 3), activation = 'relu', input_shape = (28, 28, 1)),\n",
        "  K.layers.MaxPool2D(2, 2),\n",
        "  K.layers.Flatten(),\n",
        "  K.layers.Dense(512, activation = 'relu'),\n",
        "  K.layers.Dense(10, activation = 'softmax')                       \n",
        "])\n",
        "\n",
        "CNN2 = CNN = K.models.Sequential([\n",
        "  K.layers.Conv2D(8, (3, 3), activation = 'relu', input_shape = (28, 28, 1)),\n",
        "  K.layers.MaxPool2D(2, 2),\n",
        "  K.layers.Conv2D(16, (3, 3), activation = 'relu'),\n",
        "  K.layers.MaxPool2D(2, 2),\n",
        "  K.layers.Flatten(),\n",
        "  K.layers.Dense(512, activation = 'relu'),\n",
        "  K.layers.Dense(10, activation = 'softmax')                       \n",
        "])"
      ],
      "execution_count": 6,
      "outputs": []
    },
    {
      "cell_type": "code",
      "metadata": {
        "id": "j7HM2Jc9fb4M"
      },
      "source": [
        "opt1 = K.optimizers.Adam(lr = 0.001, beta_1 = 0.9, beta_2 = 0.99, decay = 0.1)\n",
        "opt2 = K.optimizers.Adam(lr = 2, beta_1 = 0.9, beta_2 = 0.99, decay = 0.1)\n",
        "opt3 = K.optimizers.Adam(lr = 0.5, beta_1 = 0.9, beta_2 = 0.99, decay = 0.1)"
      ],
      "execution_count": 26,
      "outputs": []
    },
    {
      "cell_type": "code",
      "metadata": {
        "id": "73oj75IONCF4"
      },
      "source": [
        "neural_network.compile(optimizer = opt2, loss = 'sparse_categorical_crossentropy', metrics = ['accuracy'])\n",
        "CNN.compile(optimizer = opt3, loss = 'sparse_categorical_crossentropy', metrics = ['accuracy'])\n",
        "CNN2.compile(optimizer = opt1, loss = 'sparse_categorical_crossentropy', metrics = ['accuracy'])\n",
        "lr_schedule = tf.keras.callbacks.LearningRateScheduler(\n",
        "    lambda epoch: 1e-3 * 2**(epoch / 2))"
      ],
      "execution_count": 27,
      "outputs": []
    },
    {
      "cell_type": "code",
      "metadata": {
        "id": "DVue7SSVx-GS"
      },
      "source": [
        "history_NN = neural_network.fit(x_train, y_train, epochs = 20, validation_split = 0.1, callback = [lr_schedule], shuffle = True)"
      ],
      "execution_count": null,
      "outputs": []
    },
    {
      "cell_type": "code",
      "metadata": {
        "colab": {
          "base_uri": "https://localhost:8080/",
          "height": 265
        },
        "id": "2hI6OPlFrPRo",
        "outputId": "88e13da6-e95b-48e8-87ca-bf1e2c9670f3"
      },
      "source": [
        "plt.plot(history_NN.history['accuracy'], label = 'train')\n",
        "plt.plot(history_NN.history['val_accuracy'], label = 'validation')\n",
        "plt.show()"
      ],
      "execution_count": 10,
      "outputs": [
        {
          "output_type": "display_data",
          "data": {
            "image/png": "[encoded data removed]",
            "text/plain": [
              "<Figure size 432x288 with 1 Axes>"
            ]
          },
          "metadata": {
            "tags": [],
            "needs_background": "light"
          }
        }
      ]
    },
    {
      "cell_type": "code",
      "metadata": {
        "colab": {
          "base_uri": "https://localhost:8080/",
          "height": 290
        },
        "id": "OKUmDL6iuNAB",
        "outputId": "0d88489f-63a4-4bc7-e1b6-d5b14654e21d"
      },
      "source": [
        "plt.semilogx(history_NN.history[\"lr\"], history_NN.history[\"loss\"])\n",
        "plt.axis([1e-3, 1e1, 0, 1])"
      ],
      "execution_count": 14,
      "outputs": [
        {
          "output_type": "execute_result",
          "data": {
            "text/plain": [
              "(0.001, 10.0, 0.0, 1.0)"
            ]
          },
          "metadata": {
            "tags": []
          },
          "execution_count": 14
        },
        {
          "output_type": "display_data",
          "data": {
            "image/png": "[encoded data removed]",
            "text/plain": [
              "<Figure size 432x288 with 1 Axes>"
            ]
          },
          "metadata": {
            "tags": [],
            "needs_background": "light"
          }
        }
      ]
    },
    {
      "cell_type": "code",
      "metadata": {
        "colab": {
          "base_uri": "https://localhost:8080/"
        },
        "id": "5oRZ_nvHqR2T",
        "outputId": "ba05c1ed-de89-4702-c230-afff8b67e1cb"
      },
      "source": [
        "\n",
        "history_NN = neural_network.fit(x_train, y_train, epochs = 20, validation_split = 0.1, shuffle = True)"
      ],
      "execution_count": 19,
      "outputs": [
        {
          "output_type": "stream",
          "text": [
            "Epoch 1/20\n",
            "1688/1688 [==============================] - 4s 2ms/step - loss: 0.4361 - accuracy: 0.8498 - val_loss: 0.5659 - val_accuracy: 0.8365\n",
            "Epoch 2/20\n",
            "1688/1688 [==============================] - 4s 2ms/step - loss: 0.4340 - accuracy: 0.8505 - val_loss: 0.5615 - val_accuracy: 0.8363\n",
            "Epoch 3/20\n",
            "1688/1688 [==============================] - 4s 2ms/step - loss: 0.4318 - accuracy: 0.8514 - val_loss: 0.5646 - val_accuracy: 0.8372\n",
            "Epoch 4/20\n",
            "1688/1688 [==============================] - 4s 2ms/step - loss: 0.4301 - accuracy: 0.8522 - val_loss: 0.5575 - val_accuracy: 0.8398\n",
            "Epoch 5/20\n",
            "1688/1688 [==============================] - 4s 2ms/step - loss: 0.4280 - accuracy: 0.8525 - val_loss: 0.5578 - val_accuracy: 0.8410\n",
            "Epoch 6/20\n",
            "1688/1688 [==============================] - 4s 2ms/step - loss: 0.4260 - accuracy: 0.8532 - val_loss: 0.5567 - val_accuracy: 0.8405\n",
            "Epoch 7/20\n",
            "1688/1688 [==============================] - 4s 2ms/step - loss: 0.4243 - accuracy: 0.8542 - val_loss: 0.5531 - val_accuracy: 0.8410\n",
            "Epoch 8/20\n",
            "1688/1688 [==============================] - 4s 2ms/step - loss: 0.4236 - accuracy: 0.8543 - val_loss: 0.5578 - val_accuracy: 0.8387\n",
            "Epoch 9/20\n",
            "1688/1688 [==============================] - 4s 2ms/step - loss: 0.4219 - accuracy: 0.8553 - val_loss: 0.5606 - val_accuracy: 0.8402\n",
            "Epoch 10/20\n",
            "1688/1688 [==============================] - 4s 2ms/step - loss: 0.4202 - accuracy: 0.8559 - val_loss: 0.5588 - val_accuracy: 0.8402\n",
            "Epoch 11/20\n",
            "1688/1688 [==============================] - 4s 2ms/step - loss: 0.4191 - accuracy: 0.8559 - val_loss: 0.5538 - val_accuracy: 0.8412\n",
            "Epoch 12/20\n",
            "1688/1688 [==============================] - 4s 2ms/step - loss: 0.4176 - accuracy: 0.8561 - val_loss: 0.5564 - val_accuracy: 0.8410\n",
            "Epoch 13/20\n",
            "1688/1688 [==============================] - 4s 2ms/step - loss: 0.4166 - accuracy: 0.8569 - val_loss: 0.5574 - val_accuracy: 0.8427\n",
            "Epoch 14/20\n",
            "1688/1688 [==============================] - 4s 2ms/step - loss: 0.4155 - accuracy: 0.8571 - val_loss: 0.5556 - val_accuracy: 0.8415\n",
            "Epoch 15/20\n",
            "1688/1688 [==============================] - 4s 2ms/step - loss: 0.4147 - accuracy: 0.8568 - val_loss: 0.5572 - val_accuracy: 0.8412\n",
            "Epoch 16/20\n",
            "1688/1688 [==============================] - 4s 2ms/step - loss: 0.4138 - accuracy: 0.8574 - val_loss: 0.5586 - val_accuracy: 0.8420\n",
            "Epoch 17/20\n",
            "1688/1688 [==============================] - 4s 2ms/step - loss: 0.4129 - accuracy: 0.8575 - val_loss: 0.5550 - val_accuracy: 0.8423\n",
            "Epoch 18/20\n",
            "1688/1688 [==============================] - 4s 2ms/step - loss: 0.4121 - accuracy: 0.8582 - val_loss: 0.5504 - val_accuracy: 0.8423\n",
            "Epoch 19/20\n",
            "1688/1688 [==============================] - 4s 2ms/step - loss: 0.4110 - accuracy: 0.8583 - val_loss: 0.5498 - val_accuracy: 0.8442\n",
            "Epoch 20/20\n",
            "1688/1688 [==============================] - 4s 2ms/step - loss: 0.4104 - accuracy: 0.8585 - val_loss: 0.5537 - val_accuracy: 0.8448\n"
          ],
          "name": "stdout"
        }
      ]
    },
    {
      "cell_type": "code",
      "metadata": {
        "colab": {
          "base_uri": "https://localhost:8080/",
          "height": 265
        },
        "id": "f8QcsvtjwGSB",
        "outputId": "534a5d27-00fa-4ec6-90d5-e8ac86e09a65"
      },
      "source": [
        "plt.plot(history_NN.history['accuracy'], label = 'train')\n",
        "plt.plot(history_NN.history['val_accuracy'], label = 'validation')\n",
        "plt.show()"
      ],
      "execution_count": 20,
      "outputs": [
        {
          "output_type": "display_data",
          "data": {
            "image/png": "[encoded data removed]",
            "text/plain": [
              "<Figure size 432x288 with 1 Axes>"
            ]
          },
          "metadata": {
            "tags": [],
            "needs_background": "light"
          }
        }
      ]
    },
    {
      "cell_type": "code",
      "metadata": {
        "colab": {
          "base_uri": "https://localhost:8080/"
        },
        "id": "NIdKFYWAySPy",
        "outputId": "ba55cb41-e303-439b-f2bc-309ac1900518"
      },
      "source": [
        "history_CNN = CNN.fit(x_train_CNN, y_train, epochs = 20, validation_split = 0.1, callbacks = [lr_schedule], shuffle = True)"
      ],
      "execution_count": 23,
      "outputs": [
        {
          "output_type": "stream",
          "text": [
            "Epoch 1/20\n",
            "1688/1688 [==============================] - 35s 3ms/step - loss: 1.0347 - accuracy: 0.6762 - val_loss: 0.7442 - val_accuracy: 0.7438\n",
            "Epoch 2/20\n",
            "1688/1688 [==============================] - 5s 3ms/step - loss: 0.7478 - accuracy: 0.7421 - val_loss: 0.7060 - val_accuracy: 0.7490\n",
            "Epoch 3/20\n",
            "1688/1688 [==============================] - 5s 3ms/step - loss: 0.7102 - accuracy: 0.7500 - val_loss: 0.6830 - val_accuracy: 0.7517\n",
            "Epoch 4/20\n",
            "1688/1688 [==============================] - 5s 3ms/step - loss: 0.6901 - accuracy: 0.7541 - val_loss: 0.6637 - val_accuracy: 0.7565\n",
            "Epoch 5/20\n",
            "1688/1688 [==============================] - 5s 3ms/step - loss: 0.6684 - accuracy: 0.7613 - val_loss: 0.6455 - val_accuracy: 0.7598\n",
            "Epoch 6/20\n",
            "1688/1688 [==============================] - 5s 3ms/step - loss: 0.6527 - accuracy: 0.7646 - val_loss: 0.6280 - val_accuracy: 0.7705\n",
            "Epoch 7/20\n",
            "1688/1688 [==============================] - 5s 3ms/step - loss: 0.6374 - accuracy: 0.7702 - val_loss: 0.6101 - val_accuracy: 0.7715\n",
            "Epoch 8/20\n",
            "1688/1688 [==============================] - 5s 3ms/step - loss: 0.6100 - accuracy: 0.7778 - val_loss: 0.5904 - val_accuracy: 0.7763\n",
            "Epoch 9/20\n",
            "1688/1688 [==============================] - 5s 3ms/step - loss: 0.5954 - accuracy: 0.7821 - val_loss: 0.5683 - val_accuracy: 0.7878\n",
            "Epoch 10/20\n",
            "1688/1688 [==============================] - 5s 3ms/step - loss: 0.5706 - accuracy: 0.7906 - val_loss: 0.5508 - val_accuracy: 0.7948\n",
            "Epoch 11/20\n",
            "1688/1688 [==============================] - 5s 3ms/step - loss: 0.5513 - accuracy: 0.7988 - val_loss: 0.5279 - val_accuracy: 0.8047\n",
            "Epoch 12/20\n",
            "1688/1688 [==============================] - 5s 3ms/step - loss: 0.5216 - accuracy: 0.8097 - val_loss: 0.5087 - val_accuracy: 0.8130\n",
            "Epoch 13/20\n",
            "1688/1688 [==============================] - 5s 3ms/step - loss: 0.5045 - accuracy: 0.8171 - val_loss: 0.4937 - val_accuracy: 0.8193\n",
            "Epoch 14/20\n",
            "1688/1688 [==============================] - 5s 3ms/step - loss: 0.4812 - accuracy: 0.8268 - val_loss: 0.4789 - val_accuracy: 0.8232\n",
            "Epoch 15/20\n",
            "1688/1688 [==============================] - 5s 3ms/step - loss: 0.4700 - accuracy: 0.8304 - val_loss: 0.4551 - val_accuracy: 0.8330\n",
            "Epoch 16/20\n",
            "1688/1688 [==============================] - 5s 3ms/step - loss: 0.4585 - accuracy: 0.8346 - val_loss: 0.4532 - val_accuracy: 0.8343\n",
            "Epoch 17/20\n",
            "1688/1688 [==============================] - 5s 3ms/step - loss: 0.4347 - accuracy: 0.8413 - val_loss: 0.4229 - val_accuracy: 0.8490\n",
            "Epoch 18/20\n",
            "1688/1688 [==============================] - 5s 3ms/step - loss: 0.4149 - accuracy: 0.8500 - val_loss: 0.3996 - val_accuracy: 0.8568\n",
            "Epoch 19/20\n",
            "1688/1688 [==============================] - 5s 3ms/step - loss: 0.3988 - accuracy: 0.8570 - val_loss: 0.4024 - val_accuracy: 0.8522\n",
            "Epoch 20/20\n",
            "1688/1688 [==============================] - 5s 3ms/step - loss: 0.3764 - accuracy: 0.8634 - val_loss: 0.3774 - val_accuracy: 0.8618\n"
          ],
          "name": "stdout"
        }
      ]
    },
    {
      "cell_type": "code",
      "metadata": {
        "colab": {
          "base_uri": "https://localhost:8080/",
          "height": 265
        },
        "id": "7EZIpzKq0vdo",
        "outputId": "29669b2f-3714-405a-ae4a-d23c8b13e370"
      },
      "source": [
        "plt.plot(history_CNN.history['accuracy'], label = 'train')\n",
        "plt.plot(history_CNN.history['val_accuracy'], label = 'validation')\n",
        "plt.show()"
      ],
      "execution_count": 28,
      "outputs": [
        {
          "output_type": "display_data",
          "data": {
            "image/png": "[encoded data removed]",
            "text/plain": [
              "<Figure size 432x288 with 1 Axes>"
            ]
          },
          "metadata": {
            "tags": [],
            "needs_background": "light"
          }
        }
      ]
    },
    {
      "cell_type": "code",
      "metadata": {
        "colab": {
          "base_uri": "https://localhost:8080/",
          "height": 290
        },
        "id": "HbMe2yICzki0",
        "outputId": "ea437ffe-4fba-4fcc-d99b-29d7277424c5"
      },
      "source": [
        "plt.semilogx(history_CNN.history[\"lr\"], history_CNN.history[\"loss\"])\n",
        "plt.axis([1e-3, 1e1, 0, 1])"
      ],
      "execution_count": 25,
      "outputs": [
        {
          "output_type": "execute_result",
          "data": {
            "text/plain": [
              "(0.001, 10.0, 0.0, 1.0)"
            ]
          },
          "metadata": {
            "tags": []
          },
          "execution_count": 25
        },
        {
          "output_type": "display_data",
          "data": {
            "image/png": "[encoded data removed]",
            "text/plain": [
              "<Figure size 432x288 with 1 Axes>"
            ]
          },
          "metadata": {
            "tags": [],
            "needs_background": "light"
          }
        }
      ]
    },
    {
      "cell_type": "code",
      "metadata": {
        "colab": {
          "base_uri": "https://localhost:8080/"
        },
        "id": "TzGguiGe0swu",
        "outputId": "1a6117f4-48fe-4669-e83a-c315a5da86a4"
      },
      "source": [
        "history_CNN = CNN.fit(x_train_CNN, y_train, epochs = 20, validation_split = 0.1, callbacks = [lr_schedule], shuffle = True)"
      ],
      "execution_count": 29,
      "outputs": [
        {
          "output_type": "stream",
          "text": [
            "Epoch 1/20\n",
            "1688/1688 [==============================] - 6s 3ms/step - loss: 0.3521 - accuracy: 0.8738 - val_loss: 0.3469 - val_accuracy: 0.8732\n",
            "Epoch 2/20\n",
            "1688/1688 [==============================] - 5s 3ms/step - loss: 0.3283 - accuracy: 0.8812 - val_loss: 0.3473 - val_accuracy: 0.8735\n",
            "Epoch 3/20\n",
            "1688/1688 [==============================] - 5s 3ms/step - loss: 0.3273 - accuracy: 0.8831 - val_loss: 0.3461 - val_accuracy: 0.8740\n",
            "Epoch 4/20\n",
            "1688/1688 [==============================] - 5s 3ms/step - loss: 0.3239 - accuracy: 0.8841 - val_loss: 0.3454 - val_accuracy: 0.8757\n",
            "Epoch 5/20\n",
            "1688/1688 [==============================] - 5s 3ms/step - loss: 0.3259 - accuracy: 0.8842 - val_loss: 0.3434 - val_accuracy: 0.8755\n",
            "Epoch 6/20\n",
            "1688/1688 [==============================] - 5s 3ms/step - loss: 0.3237 - accuracy: 0.8840 - val_loss: 0.3428 - val_accuracy: 0.8747\n",
            "Epoch 7/20\n",
            "1688/1688 [==============================] - 5s 3ms/step - loss: 0.3314 - accuracy: 0.8818 - val_loss: 0.3431 - val_accuracy: 0.8745\n",
            "Epoch 8/20\n",
            "1688/1688 [==============================] - 5s 3ms/step - loss: 0.3234 - accuracy: 0.8839 - val_loss: 0.3402 - val_accuracy: 0.8772\n",
            "Epoch 9/20\n",
            "1688/1688 [==============================] - 5s 3ms/step - loss: 0.3164 - accuracy: 0.8866 - val_loss: 0.3402 - val_accuracy: 0.8773\n",
            "Epoch 10/20\n",
            "1688/1688 [==============================] - 5s 3ms/step - loss: 0.3191 - accuracy: 0.8858 - val_loss: 0.3385 - val_accuracy: 0.8800\n",
            "Epoch 11/20\n",
            "1688/1688 [==============================] - 5s 3ms/step - loss: 0.3226 - accuracy: 0.8848 - val_loss: 0.3374 - val_accuracy: 0.8778\n",
            "Epoch 12/20\n",
            "1688/1688 [==============================] - 5s 3ms/step - loss: 0.3166 - accuracy: 0.8886 - val_loss: 0.3395 - val_accuracy: 0.8778\n",
            "Epoch 13/20\n",
            "1688/1688 [==============================] - 5s 3ms/step - loss: 0.3215 - accuracy: 0.8843 - val_loss: 0.3342 - val_accuracy: 0.8805\n",
            "Epoch 14/20\n",
            "1688/1688 [==============================] - 5s 3ms/step - loss: 0.3096 - accuracy: 0.8885 - val_loss: 0.3358 - val_accuracy: 0.8760\n",
            "Epoch 15/20\n",
            "1688/1688 [==============================] - 5s 3ms/step - loss: 0.3140 - accuracy: 0.8869 - val_loss: 0.3314 - val_accuracy: 0.8810\n",
            "Epoch 16/20\n",
            "1688/1688 [==============================] - 5s 3ms/step - loss: 0.3090 - accuracy: 0.8867 - val_loss: 0.3234 - val_accuracy: 0.8832\n",
            "Epoch 17/20\n",
            "1688/1688 [==============================] - 5s 3ms/step - loss: 0.3059 - accuracy: 0.8902 - val_loss: 0.3322 - val_accuracy: 0.8803\n",
            "Epoch 18/20\n",
            "1688/1688 [==============================] - 5s 3ms/step - loss: 0.3033 - accuracy: 0.8910 - val_loss: 0.3289 - val_accuracy: 0.8802\n",
            "Epoch 19/20\n",
            "1688/1688 [==============================] - 5s 3ms/step - loss: 0.3001 - accuracy: 0.8927 - val_loss: 0.3266 - val_accuracy: 0.8822\n",
            "Epoch 20/20\n",
            "1688/1688 [==============================] - 5s 3ms/step - loss: 0.2999 - accuracy: 0.8900 - val_loss: 0.3156 - val_accuracy: 0.8833\n"
          ],
          "name": "stdout"
        }
      ]
    },
    {
      "cell_type": "code",
      "metadata": {
        "colab": {
          "base_uri": "https://localhost:8080/",
          "height": 265
        },
        "id": "ZB8tlOU41RDH",
        "outputId": "111f3a6c-11c4-429b-8703-9ba5eff6bc3a"
      },
      "source": [
        "plt.plot(history_CNN.history['accuracy'], label = 'train')\n",
        "plt.plot(history_CNN.history['val_accuracy'], label = 'validation')\n",
        "plt.show()"
      ],
      "execution_count": 30,
      "outputs": [
        {
          "output_type": "display_data",
          "data": {
            "image/png": "[encoded data removed]",
            "text/plain": [
              "<Figure size 432x288 with 1 Axes>"
            ]
          },
          "metadata": {
            "tags": [],
            "needs_background": "light"
          }
        }
      ]
    },
    {
      "cell_type": "code",
      "metadata": {
        "id": "YoRtkPXC1NaO"
      },
      "source": [
        ""
      ],
      "execution_count": null,
      "outputs": []
    }
  ]
}
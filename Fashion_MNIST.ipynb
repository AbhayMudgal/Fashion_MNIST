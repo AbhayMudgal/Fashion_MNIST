{
  "nbformat": 4,
  "nbformat_minor": 0,
  "metadata": {
    "colab": {
      "name": "Fashion_MNIST.ipynb",
      "provenance": [],
      "authorship_tag": "ABX9TyP5Q6NrZ6Ber2zSTjQuGLrE",
      "include_colab_link": true
    },
    "kernelspec": {
      "name": "python3",
      "display_name": "Python 3"
    },
    "accelerator": "GPU"
  },
  "cells": [
    {
      "cell_type": "markdown",
      "metadata": {
        "id": "view-in-github",
        "colab_type": "text"
      },
      "source": [
        "<a href=\"https://colab.research.google.com/github/AbhayMudgal/MINST/blob/main/Fashion_MNIST.ipynb\" target=\"_parent\"><img src=\"https://colab.research.google.com/assets/colab-badge.svg\" alt=\"Open In Colab\"/></a>"
      ]
    },
    {
      "cell_type": "code",
      "metadata": {
        "id": "f8bPbkE1IiQC"
      },
      "source": [
        "import numpy as np\n",
        "import pandas as pd\n",
        "import matplotlib.pyplot as plt\n",
        "import tensorflow as tf\n",
        "from tensorflow import keras as K\n",
        "from google.colab import files\n",
        "from keras.preprocessing import image\n",
        "\n",
        "mnist = K.datasets.fashion_mnist"
      ],
      "execution_count": null,
      "outputs": []
    },
    {
      "cell_type": "code",
      "metadata": {
        "id": "e-Axut7xJiS-",
        "colab": {
          "base_uri": "https://localhost:8080/"
        },
        "outputId": "e28332bb-31b5-4424-d869-c0ffb407a4a4"
      },
      "source": [
        "class myCallback(K.callbacks.Callback):\n",
        "  def on_epoch_end(self, epoch, logs = {}):\n",
        "    if(logs.get('acc')>0.9):\n",
        "      print(\"90% accuracy reached\")\n",
        "      self.model.stop_training = True\n",
        "\n",
        "\n",
        "(x_train, y_train), (x_test, y_test) = mnist.load_data()\n",
        "x_train, x_test = x_train/255.0, x_test/255.0"
      ],
      "execution_count": null,
      "outputs": [
        {
          "output_type": "stream",
          "text": [
            "Downloading data from https://storage.googleapis.com/tensorflow/tf-keras-datasets/train-labels-idx1-ubyte.gz\n",
            "32768/29515 [=================================] - 0s 0us/step\n",
            "Downloading data from https://storage.googleapis.com/tensorflow/tf-keras-datasets/train-images-idx3-ubyte.gz\n",
            "26427392/26421880 [==============================] - 0s 0us/step\n",
            "Downloading data from https://storage.googleapis.com/tensorflow/tf-keras-datasets/t10k-labels-idx1-ubyte.gz\n",
            "8192/5148 [===============================================] - 0s 0us/step\n",
            "Downloading data from https://storage.googleapis.com/tensorflow/tf-keras-datasets/t10k-images-idx3-ubyte.gz\n",
            "4423680/4422102 [==============================] - 0s 0us/step\n"
          ],
          "name": "stdout"
        }
      ]
    },
    {
      "cell_type": "code",
      "metadata": {
        "id": "qEJvBk0_Loxg"
      },
      "source": [
        "#print(x_train.shape, x_test.shape) \n",
        "x_train_CNN = x_train\n",
        "x_test_CNN = x_test\n",
        "\n",
        "x_train_CNN = x_train_CNN.reshape(60000, 28, 28, 1)\n",
        "x_test_CNN = x_test_CNN.reshape(10000, 28, 28, 1)"
      ],
      "execution_count": null,
      "outputs": []
    },
    {
      "cell_type": "code",
      "metadata": {
        "id": "1uxfIbn8KQDJ"
      },
      "source": [
        "neural_network = K.models.Sequential([\n",
        "  K.layers.Flatten(input_shape = (28, 28)),\n",
        "  K.layers.Dense(512, activation = 'relu'),\n",
        "  K.layers.Dense(10, activation = 'softmax')   \n",
        "])\n",
        "\n",
        "CNN = K.models.Sequential([\n",
        "  K.layers.Conv2D(8, (3, 3), activation = 'relu', input_shape = (28, 28, 1)),\n",
        "  K.layers.MaxPool2D(2, 2),\n",
        "  K.layers.Flatten(),\n",
        "  K.layers.Dense(512, activation = 'relu'),\n",
        "  K.layers.Dense(10, activation = 'softmax')                       \n",
        "])\n",
        "\n",
        "CNN2 = CNN = K.models.Sequential([\n",
        "  K.layers.Conv2D(8, (3, 3), activation = 'relu', input_shape = (28, 28, 1)),\n",
        "  K.layers.MaxPool2D(2, 2),\n",
        "  K.layers.Conv2D(16, (3, 3), activation = 'relu'),\n",
        "  K.layers.MaxPool2D(2, 2),\n",
        "  K.layers.Flatten(),\n",
        "  K.layers.Dense(512, activation = 'relu'),\n",
        "  K.layers.Dense(10, activation = 'softmax')                       \n",
        "])"
      ],
      "execution_count": null,
      "outputs": []
    },
    {
      "cell_type": "code",
      "metadata": {
        "id": "j7HM2Jc9fb4M"
      },
      "source": [
        "opt1 = K.optimizers.Adam(lr = 0.1, beta_1 = 0.9, beta_2 = 0.99, decay = 0.1)\n",
        "opt2 = K.optimizers.Adam(lr = 2, beta_1 = 0.9, beta_2 = 0.99, decay = 0.1)\n",
        "opt3 = K.optimizers.Adam(lr = 0.5, beta_1 = 0.9, beta_2 = 0.99, decay = 0.1)"
      ],
      "execution_count": null,
      "outputs": []
    },
    {
      "cell_type": "code",
      "metadata": {
        "id": "73oj75IONCF4"
      },
      "source": [
        "neural_network.compile(optimizer = opt1, loss = 'sparse_categorical_crossentropy', metrics = ['accuracy'])\n",
        "CNN.compile(optimizer = opt1, loss = 'sparse_categorical_crossentropy', metrics = ['accuracy'])\n",
        "CNN2.compile(optimizer = opt1, loss = 'sparse_categorical_crossentropy', metrics = ['accuracy'])\n",
        "lr_schedule = tf.keras.callbacks.LearningRateScheduler(\n",
        "    lambda epoch: 1e-3 * 2**(epoch / 2))"
      ],
      "execution_count": null,
      "outputs": []
    },
    {
      "cell_type": "code",
      "metadata": {
        "id": "DVue7SSVx-GS"
      },
      "source": [
        "history_NN = neural_network.fit(x_train, y_train, epochs = 20, validation_split = 0.1, callback = [lr_schedule], shuffle = True)\n",
        "plt.plot(history_NN.history['accuracy'], label = 'train')\n",
        "plt.plot(history_NN.history['val_accuracy'], label = 'validation')\n",
        "plt.show()"
      ],
      "execution_count": null,
      "outputs": []
    },
    {
      "cell_type": "code",
      "metadata": {
        "colab": {
          "base_uri": "https://localhost:8080/",
          "height": 290
        },
        "id": "OKUmDL6iuNAB",
        "outputId": "0d88489f-63a4-4bc7-e1b6-d5b14654e21d"
      },
      "source": [
        "plt.semilogx(history_NN.history[\"lr\"], history_NN.history[\"loss\"])\n",
        "plt.axis([1e-3, 1e1, 0, 1])"
      ],
      "execution_count": null,
      "outputs": [
        {
          "output_type": "execute_result",
          "data": {
            "text/plain": [
              "(0.001, 10.0, 0.0, 1.0)"
            ]
          },
          "metadata": {
            "tags": []
          },
          "execution_count": 14
        },
        {
          "output_type": "display_data",
          "data": {
            "image/png": "[encoded data removed]",
            "text/plain": [
              "<Figure size 432x288 with 1 Axes>"
            ]
          },
          "metadata": {
            "tags": [],
            "needs_background": "light"
          }
        }
      ]
    },
    {
      "cell_type": "code",
      "metadata": {
        "id": "NIdKFYWAySPy"
      },
      "source": [
        "history_CNN = CNN.fit(x_train_CNN, y_train, epochs = 20, validation_split = 0.1, callbacks = [lr_schedule], shuffle = True)\n",
        "plt.plot(history_CNN.history['accuracy'], label = 'train')\n",
        "plt.plot(history_CNN.history['val_accuracy'], label = 'validation')\n",
        "plt.show()"
      ],
      "execution_count": null,
      "outputs": []
    },
    {
      "cell_type": "code",
      "metadata": {
        "colab": {
          "base_uri": "https://localhost:8080/",
          "height": 290
        },
        "id": "HbMe2yICzki0",
        "outputId": "ea437ffe-4fba-4fcc-d99b-29d7277424c5"
      },
      "source": [
        "plt.semilogx(history_CNN.history[\"lr\"], history_CNN.history[\"loss\"])\n",
        "plt.axis([1e-3, 1e1, 0, 1])"
      ],
      "execution_count": null,
      "outputs": [
        {
          "output_type": "execute_result",
          "data": {
            "text/plain": [
              "(0.001, 10.0, 0.0, 1.0)"
            ]
          },
          "metadata": {
            "tags": []
          },
          "execution_count": 25
        },
        {
          "output_type": "display_data",
          "data": {
            "image/png": "[encoded data removed]",
            "text/plain": [
              "<Figure size 432x288 with 1 Axes>"
            ]
          },
          "metadata": {
            "tags": [],
            "needs_background": "light"
          }
        }
      ]
    },
    {
      "cell_type": "code",
      "metadata": {
        "id": "TzGguiGe0swu"
      },
      "source": [
        "history_CNN2 = CNN2.fit(x_train_CNN, y_train, epochs = 20, validation_split = 0.1, callbacks = [lr_schedule], shuffle = True)\n",
        "plt.plot(history_CNN2.history['accuracy'], label = 'train')\n",
        "plt.plot(history_CNN2.history['val_accuracy'], label = 'validation')\n",
        "plt.show()"
      ],
      "execution_count": null,
      "outputs": []
    },
    {
      "cell_type": "code",
      "metadata": {
        "id": "4Mccdll1gPdA"
      },
      "source": [
        "plt.semilogx(history_CNN2.history[\"lr\"], history_CNN2.history[\"loss\"])\n",
        "plt.axis([1e-3, 1e1, 0, 1])"
      ],
      "execution_count": null,
      "outputs": []
    },
    {
      "cell_type": "code",
      "metadata": {
        "colab": {
          "base_uri": "https://localhost:8080/"
        },
        "id": "5oRZ_nvHqR2T",
        "outputId": "a1564e56-6402-4121-e475-51398f91e5ae"
      },
      "source": [
        "\n",
        "history_NN = neural_network.fit(x_train, y_train, epochs = 20, validation_split = 0.1, shuffle = True)"
      ],
      "execution_count": null,
      "outputs": [
        {
          "output_type": "stream",
          "text": [
            "Epoch 1/20\n",
            "1688/1688 [==============================] - 7s 2ms/step - loss: 5.6749 - accuracy: 0.7275 - val_loss: 0.5335 - val_accuracy: 0.8023\n",
            "Epoch 2/20\n",
            "1688/1688 [==============================] - 4s 2ms/step - loss: 0.5216 - accuracy: 0.8070 - val_loss: 0.5082 - val_accuracy: 0.8102\n",
            "Epoch 3/20\n",
            "1688/1688 [==============================] - 4s 2ms/step - loss: 0.4919 - accuracy: 0.8201 - val_loss: 0.4980 - val_accuracy: 0.8138\n",
            "Epoch 4/20\n",
            "1688/1688 [==============================] - 4s 2ms/step - loss: 0.4857 - accuracy: 0.8191 - val_loss: 0.4918 - val_accuracy: 0.8187\n",
            "Epoch 5/20\n",
            "1688/1688 [==============================] - 4s 2ms/step - loss: 0.4718 - accuracy: 0.8247 - val_loss: 0.4841 - val_accuracy: 0.8198\n",
            "Epoch 6/20\n",
            "1688/1688 [==============================] - 4s 2ms/step - loss: 0.4688 - accuracy: 0.8254 - val_loss: 0.4799 - val_accuracy: 0.8200\n",
            "Epoch 7/20\n",
            "1688/1688 [==============================] - 4s 2ms/step - loss: 0.4648 - accuracy: 0.8288 - val_loss: 0.4755 - val_accuracy: 0.8223\n",
            "Epoch 8/20\n",
            "1688/1688 [==============================] - 4s 2ms/step - loss: 0.4552 - accuracy: 0.8328 - val_loss: 0.4729 - val_accuracy: 0.8258\n",
            "Epoch 9/20\n",
            "1688/1688 [==============================] - 4s 2ms/step - loss: 0.4635 - accuracy: 0.8296 - val_loss: 0.4686 - val_accuracy: 0.8273\n",
            "Epoch 10/20\n",
            "1688/1688 [==============================] - 4s 2ms/step - loss: 0.4478 - accuracy: 0.8330 - val_loss: 0.4672 - val_accuracy: 0.8272\n",
            "Epoch 11/20\n",
            "1688/1688 [==============================] - 4s 2ms/step - loss: 0.4455 - accuracy: 0.8365 - val_loss: 0.4634 - val_accuracy: 0.8278\n",
            "Epoch 12/20\n",
            "1688/1688 [==============================] - 4s 2ms/step - loss: 0.4493 - accuracy: 0.8374 - val_loss: 0.4622 - val_accuracy: 0.8283\n",
            "Epoch 13/20\n",
            "1688/1688 [==============================] - 4s 2ms/step - loss: 0.4425 - accuracy: 0.8384 - val_loss: 0.4594 - val_accuracy: 0.8307\n",
            "Epoch 14/20\n",
            "1688/1688 [==============================] - 4s 2ms/step - loss: 0.4470 - accuracy: 0.8368 - val_loss: 0.4579 - val_accuracy: 0.8313\n",
            "Epoch 15/20\n",
            "1688/1688 [==============================] - 4s 2ms/step - loss: 0.4400 - accuracy: 0.8384 - val_loss: 0.4561 - val_accuracy: 0.8308\n",
            "Epoch 16/20\n",
            "1688/1688 [==============================] - 4s 2ms/step - loss: 0.4413 - accuracy: 0.8376 - val_loss: 0.4541 - val_accuracy: 0.8323\n",
            "Epoch 17/20\n",
            "1688/1688 [==============================] - 4s 2ms/step - loss: 0.4403 - accuracy: 0.8398 - val_loss: 0.4521 - val_accuracy: 0.8332\n",
            "Epoch 18/20\n",
            "1688/1688 [==============================] - 4s 2ms/step - loss: 0.4289 - accuracy: 0.8417 - val_loss: 0.4509 - val_accuracy: 0.8332\n",
            "Epoch 19/20\n",
            "1688/1688 [==============================] - 4s 2ms/step - loss: 0.4319 - accuracy: 0.8428 - val_loss: 0.4497 - val_accuracy: 0.8343\n",
            "Epoch 20/20\n",
            "1688/1688 [==============================] - 4s 2ms/step - loss: 0.4277 - accuracy: 0.8440 - val_loss: 0.4486 - val_accuracy: 0.8347\n"
          ],
          "name": "stdout"
        }
      ]
    },
    {
      "cell_type": "code",
      "metadata": {
        "colab": {
          "base_uri": "https://localhost:8080/",
          "height": 265
        },
        "id": "f8QcsvtjwGSB",
        "outputId": "50594426-f8b6-4f82-eeb4-8836d17ff02e"
      },
      "source": [
        "plt.plot(history_NN.history['accuracy'], label = 'train')\n",
        "plt.plot(history_NN.history['val_accuracy'], label = 'validation')\n",
        "plt.show()"
      ],
      "execution_count": null,
      "outputs": [
        {
          "output_type": "display_data",
          "data": {
            "image/png": "[encoded data removed]",
            "text/plain": [
              "<Figure size 432x288 with 1 Axes>"
            ]
          },
          "metadata": {
            "tags": [],
            "needs_background": "light"
          }
        }
      ]
    },
    {
      "cell_type": "code",
      "metadata": {
        "id": "YoRtkPXC1NaO",
        "colab": {
          "base_uri": "https://localhost:8080/",
          "height": 945
        },
        "outputId": "b3a96d6b-e6c5-4d12-be50-93f7b292607e"
      },
      "source": [
        "history_CNN = CNN.fit(x_train_CNN, y_train, epochs = 20, validation_split = 0.1, shuffle = True)\n",
        "plt.plot(history_CNN.history['accuracy'], label = 'train')\n",
        "plt.plot(history_CNN.history['val_accuracy'], label = 'validation')\n",
        "plt.show()"
      ],
      "execution_count": null,
      "outputs": [
        {
          "output_type": "stream",
          "text": [
            "Epoch 1/20\n",
            "1688/1688 [==============================] - 35s 3ms/step - loss: 1.7205 - accuracy: 0.5614 - val_loss: 0.7671 - val_accuracy: 0.7275\n",
            "Epoch 2/20\n",
            "1688/1688 [==============================] - 5s 3ms/step - loss: 0.7356 - accuracy: 0.7361 - val_loss: 0.6498 - val_accuracy: 0.7527\n",
            "Epoch 3/20\n",
            "1688/1688 [==============================] - 5s 3ms/step - loss: 0.6496 - accuracy: 0.7578 - val_loss: 0.5993 - val_accuracy: 0.7707\n",
            "Epoch 4/20\n",
            "1688/1688 [==============================] - 5s 3ms/step - loss: 0.5923 - accuracy: 0.7774 - val_loss: 0.5563 - val_accuracy: 0.7867\n",
            "Epoch 5/20\n",
            "1688/1688 [==============================] - 5s 3ms/step - loss: 0.5567 - accuracy: 0.7918 - val_loss: 0.5323 - val_accuracy: 0.7983\n",
            "Epoch 6/20\n",
            "1688/1688 [==============================] - 5s 3ms/step - loss: 0.5353 - accuracy: 0.8041 - val_loss: 0.5134 - val_accuracy: 0.8087\n",
            "Epoch 7/20\n",
            "1688/1688 [==============================] - 5s 3ms/step - loss: 0.5120 - accuracy: 0.8129 - val_loss: 0.4999 - val_accuracy: 0.8142\n",
            "Epoch 8/20\n",
            "1688/1688 [==============================] - 5s 3ms/step - loss: 0.4974 - accuracy: 0.8188 - val_loss: 0.4899 - val_accuracy: 0.8168\n",
            "Epoch 9/20\n",
            "1688/1688 [==============================] - 5s 3ms/step - loss: 0.4878 - accuracy: 0.8246 - val_loss: 0.4768 - val_accuracy: 0.8237\n",
            "Epoch 10/20\n",
            "1688/1688 [==============================] - 5s 3ms/step - loss: 0.4724 - accuracy: 0.8322 - val_loss: 0.4659 - val_accuracy: 0.8302\n",
            "Epoch 11/20\n",
            "1688/1688 [==============================] - 5s 3ms/step - loss: 0.4692 - accuracy: 0.8321 - val_loss: 0.4602 - val_accuracy: 0.8348\n",
            "Epoch 12/20\n",
            "1688/1688 [==============================] - 5s 3ms/step - loss: 0.4597 - accuracy: 0.8342 - val_loss: 0.4532 - val_accuracy: 0.8373\n",
            "Epoch 13/20\n",
            "1688/1688 [==============================] - 5s 3ms/step - loss: 0.4468 - accuracy: 0.8421 - val_loss: 0.4489 - val_accuracy: 0.8368\n",
            "Epoch 14/20\n",
            "1688/1688 [==============================] - 5s 3ms/step - loss: 0.4438 - accuracy: 0.8420 - val_loss: 0.4425 - val_accuracy: 0.8442\n",
            "Epoch 15/20\n",
            "1688/1688 [==============================] - 5s 3ms/step - loss: 0.4331 - accuracy: 0.8487 - val_loss: 0.4404 - val_accuracy: 0.8423\n",
            "Epoch 16/20\n",
            "1688/1688 [==============================] - 5s 3ms/step - loss: 0.4368 - accuracy: 0.8456 - val_loss: 0.4317 - val_accuracy: 0.8452\n",
            "Epoch 17/20\n",
            "1688/1688 [==============================] - 5s 3ms/step - loss: 0.4295 - accuracy: 0.8487 - val_loss: 0.4309 - val_accuracy: 0.8472\n",
            "Epoch 18/20\n",
            "1688/1688 [==============================] - 5s 3ms/step - loss: 0.4221 - accuracy: 0.8493 - val_loss: 0.4268 - val_accuracy: 0.8475\n",
            "Epoch 19/20\n",
            "1688/1688 [==============================] - 5s 3ms/step - loss: 0.4157 - accuracy: 0.8534 - val_loss: 0.4219 - val_accuracy: 0.8487\n",
            "Epoch 20/20\n",
            "1688/1688 [==============================] - 5s 3ms/step - loss: 0.4105 - accuracy: 0.8563 - val_loss: 0.4193 - val_accuracy: 0.8488\n"
          ],
          "name": "stdout"
        },
        {
          "output_type": "display_data",
          "data": {
            "image/png": "[encoded data removed]",
            "text/plain": [
              "<Figure size 432x288 with 1 Axes>"
            ]
          },
          "metadata": {
            "tags": [],
            "needs_background": "light"
          }
        }
      ]
    },
    {
      "cell_type": "code",
      "metadata": {
        "colab": {
          "base_uri": "https://localhost:8080/",
          "height": 945
        },
        "id": "WYQ41mTDZ0wZ",
        "outputId": "4707dcbb-a594-4365-cb50-06091e3b174e"
      },
      "source": [
        "history_CNN2 = CNN2.fit(x_train_CNN, y_train, epochs = 20, validation_split = 0.1, shuffle = True)\n",
        "plt.plot(history_CNN2.history['accuracy'], label = 'train')\n",
        "plt.plot(history_CNN2.history['val_accuracy'], label = 'validation')\n",
        "plt.show()"
      ],
      "execution_count": null,
      "outputs": [
        {
          "output_type": "stream",
          "text": [
            "Epoch 1/20\n",
            "1688/1688 [==============================] - 5s 3ms/step - loss: 0.4101 - accuracy: 0.8541 - val_loss: 0.4155 - val_accuracy: 0.8507\n",
            "Epoch 2/20\n",
            "1688/1688 [==============================] - 5s 3ms/step - loss: 0.4064 - accuracy: 0.8570 - val_loss: 0.4106 - val_accuracy: 0.8522\n",
            "Epoch 3/20\n",
            "1688/1688 [==============================] - 5s 3ms/step - loss: 0.4030 - accuracy: 0.8578 - val_loss: 0.4100 - val_accuracy: 0.8538\n",
            "Epoch 4/20\n",
            "1688/1688 [==============================] - 5s 3ms/step - loss: 0.4002 - accuracy: 0.8601 - val_loss: 0.4063 - val_accuracy: 0.8528\n",
            "Epoch 5/20\n",
            "1688/1688 [==============================] - 5s 3ms/step - loss: 0.3976 - accuracy: 0.8601 - val_loss: 0.4032 - val_accuracy: 0.8522\n",
            "Epoch 6/20\n",
            "1688/1688 [==============================] - 5s 3ms/step - loss: 0.3951 - accuracy: 0.8610 - val_loss: 0.4021 - val_accuracy: 0.8543\n",
            "Epoch 7/20\n",
            "1688/1688 [==============================] - 5s 3ms/step - loss: 0.3927 - accuracy: 0.8620 - val_loss: 0.4019 - val_accuracy: 0.8533\n",
            "Epoch 8/20\n",
            "1688/1688 [==============================] - 5s 3ms/step - loss: 0.3903 - accuracy: 0.8627 - val_loss: 0.4007 - val_accuracy: 0.8567\n",
            "Epoch 9/20\n",
            "1688/1688 [==============================] - 5s 3ms/step - loss: 0.3883 - accuracy: 0.8635 - val_loss: 0.4026 - val_accuracy: 0.8560\n",
            "Epoch 10/20\n",
            "1688/1688 [==============================] - 5s 3ms/step - loss: 0.3861 - accuracy: 0.8635 - val_loss: 0.3946 - val_accuracy: 0.8588\n",
            "Epoch 11/20\n",
            "1688/1688 [==============================] - 5s 3ms/step - loss: 0.3839 - accuracy: 0.8650 - val_loss: 0.3935 - val_accuracy: 0.8565\n",
            "Epoch 12/20\n",
            "1688/1688 [==============================] - 5s 3ms/step - loss: 0.3821 - accuracy: 0.8655 - val_loss: 0.3920 - val_accuracy: 0.8582\n",
            "Epoch 13/20\n",
            "1688/1688 [==============================] - 5s 3ms/step - loss: 0.3804 - accuracy: 0.8666 - val_loss: 0.3927 - val_accuracy: 0.8577\n",
            "Epoch 14/20\n",
            "1688/1688 [==============================] - 5s 3ms/step - loss: 0.3785 - accuracy: 0.8668 - val_loss: 0.3901 - val_accuracy: 0.8620\n",
            "Epoch 15/20\n",
            "1688/1688 [==============================] - 5s 3ms/step - loss: 0.3771 - accuracy: 0.8671 - val_loss: 0.3880 - val_accuracy: 0.8592\n",
            "Epoch 16/20\n",
            "1688/1688 [==============================] - 5s 3ms/step - loss: 0.3752 - accuracy: 0.8680 - val_loss: 0.3851 - val_accuracy: 0.8610\n",
            "Epoch 17/20\n",
            "1688/1688 [==============================] - 5s 3ms/step - loss: 0.3734 - accuracy: 0.8681 - val_loss: 0.3880 - val_accuracy: 0.8598\n",
            "Epoch 18/20\n",
            "1688/1688 [==============================] - 5s 3ms/step - loss: 0.3722 - accuracy: 0.8694 - val_loss: 0.3904 - val_accuracy: 0.8570\n",
            "Epoch 19/20\n",
            "1688/1688 [==============================] - 5s 3ms/step - loss: 0.3709 - accuracy: 0.8689 - val_loss: 0.3833 - val_accuracy: 0.8620\n",
            "Epoch 20/20\n",
            "1688/1688 [==============================] - 5s 3ms/step - loss: 0.3694 - accuracy: 0.8699 - val_loss: 0.3804 - val_accuracy: 0.8618\n"
          ],
          "name": "stdout"
        },
        {
          "output_type": "display_data",
          "data": {
            "image/png": "[encoded data removed]",
            "text/plain": [
              "<Figure size 432x288 with 1 Axes>"
            ]
          },
          "metadata": {
            "tags": [],
            "needs_background": "light"
          }
        }
      ]
    },
    {
      "cell_type": "code",
      "metadata": {
        "id": "WaEkG5wngXmJ"
      },
      "source": [
        "\n",
        "uploaded = files.upload()\n",
        "\n",
        "for fn in uploaded.keys():\n",
        " \n",
        "  # predicting images\n",
        "  path = fn\n",
        "  img = image.load_img(path, target_size=(150, 150))\n",
        "  x = image.img_to_array(img)\n",
        "  x = np.expand_dims(x, axis=0)\n",
        "\n",
        "  images = np.vstack([x])\n",
        "  classes = model.predict(images, batch_size=10)\n",
        "  print(fn)\n",
        "  print(classes)\n"
      ],
      "execution_count": null,
      "outputs": []
    },
    {
      "cell_type": "code",
      "metadata": {
        "id": "Umkm8FJI7nSQ"
      },
      "source": [
        ""
      ],
      "execution_count": null,
      "outputs": []
    }
  ]
}
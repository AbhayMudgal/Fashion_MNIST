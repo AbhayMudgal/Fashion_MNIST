{
  "nbformat": 4,
  "nbformat_minor": 0,
  "metadata": {
    "colab": {
      "name": "Fashion_MNIST.ipynb",
      "provenance": [],
      "authorship_tag": "ABX9TyOTsTJpouIS2Zm+s4ZymZSI"
    },
    "kernelspec": {
      "name": "python3",
      "display_name": "Python 3"
    }
  },
  "cells": [
    {
      "cell_type": "code",
      "metadata": {
        "id": "f8bPbkE1IiQC"
      },
      "source": [
        "import numpy as np\n",
        "import pandas as pd\n",
        "import matplotlib.pyplot as plt\n",
        "import tensorflow as tf\n",
        "from tensorflow import keras as K\n",
        "\n",
        "mnist = K.datasets.fashion_mnist"
      ],
      "execution_count": 1,
      "outputs": []
    },
    {
      "cell_type": "code",
      "metadata": {
        "id": "e-Axut7xJiS-"
      },
      "source": [
        "class myCallback(K.callbacks.Callback):\n",
        "  def on_epoch_end(self, epoch, logs = {}):\n",
        "    if(logs.get('acc')>0.9):\n",
        "      print(\"90% accuracy reached\")\n",
        "      self.model.stop_training = True\n",
        "\n",
        "\n",
        "(x_train, y_train), (x_test, y_test) = mnist.load_data()\n",
        "x_train, x_test = x_train/255.0, x_test/255.0"
      ],
      "execution_count": null,
      "outputs": []
    },
    {
      "cell_type": "code",
      "metadata": {
        "id": "qEJvBk0_Loxg"
      },
      "source": [
        "#print(x_train.shape, x_test.shape) \n",
        "x_train_CNN = x_train\n",
        "x_test_CNN = x_test\n",
        "\n",
        "x_train_CNN = x_train_CNN.reshape(60000, 28, 28, 1)\n",
        "x_test_CNN = x_test_CNN.reshape(10000, 28, 28, 1)"
      ],
      "execution_count": null,
      "outputs": []
    },
    {
      "cell_type": "code",
      "metadata": {
        "id": "1uxfIbn8KQDJ"
      },
      "source": [
        "neural_network = K.models.Sequential([\n",
        "  K.layers.Flatten(input_shape = (28, 28)),\n",
        "  K.layers.Dense(512, activation = 'relu'),\n",
        "  K.layers.Dense(10, activation = 'softmax')   \n",
        "])\n",
        "\n",
        "CNN = K.models.Sequential([\n",
        "  K.layers.Conv2D(8, (3, 3), activation = 'relu', input_shape = (28, 28, 1))\n",
        "  K.layers.MaxPool2D(2, 2)\n",
        "  K.layers.Flatten(),\n",
        "  K.layers.Dense(512, activation = 'relu'),\n",
        "  K.layers.Dense(10, activation = 'softmax')                       \n",
        "])\n",
        "\n",
        "CNN2 = CNN = K.models.Sequential([\n",
        "  K.layers.Conv2D(8, (3, 3), activation = 'relu', input_shape = (28, 28, 1)),\n",
        "  K.layers.MaxPool2D(2, 2),\n",
        "  K.layers.Conv2D(16, (3, 3), activation = 'relu'),\n",
        "  K.layers.MaxPool2D(2, 2),\n",
        "  K.layers.Flatten(),\n",
        "  K.layers.Dense(512, activation = 'relu'),\n",
        "  K.layers.Dense(10, activation = 'softmax')                       \n",
        "])"
      ],
      "execution_count": null,
      "outputs": []
    },
    {
      "cell_type": "code",
      "metadata": {
        "id": "j7HM2Jc9fb4M"
      },
      "source": [
        "opt1 = K.optimizers.Adam(lr = 0.07, beta_1 = 0.9, beta_2 = 0.99, decay = 0.1)\n",
        "opt2 = K.optimizers.Adam(lr = 0.04, beta_1 = 0.9, beta_2 = 0.99, decay = 0.1)\n",
        "opt3 = K.optimizers.Adam(lr = 0.02, beta_1 = 0.9, beta_2 = 0.99, decay = 0.1)"
      ],
      "execution_count": 7,
      "outputs": []
    },
    {
      "cell_type": "code",
      "metadata": {
        "id": "73oj75IONCF4"
      },
      "source": [
        "neural_network.compile(optimizer = 'adam', loss = 'sparse_categorical_crossentropy', metrics = ['accuracy'])\n",
        "CNN.compile(optimizer = 'adam', loss = 'sparse_categorical_crossentropy', metrics = ['accuracy'])\n",
        "CNN2.compile(optimizer = 'adam', loss = 'sparse_categorical_crossentropy', metrics = ['accuracy']))"
      ],
      "execution_count": null,
      "outputs": []
    }
  ]
}